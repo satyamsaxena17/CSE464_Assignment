{
 "cells": [
  {
   "cell_type": "markdown",
   "metadata": {},
   "source": [
    "# CSE - 464: Machine Learning Endsemester Assignment\n",
    "### Satyam Saxena - Chemical Engineering - 17045120\n",
    "***\n",
    "In this assignment, I have used a Three Layer Multilayer Perceptron for identifying signs of Diabetic Retinopathy in Messidor Image Sets. All features represent either a detected lesion, a descriptive feature of a anatomical part or an image-level descriptor. \n",
    "***"
   ]
  },
  {
   "cell_type": "markdown",
   "metadata": {},
   "source": [
    "## Importing Libraries"
   ]
  },
  {
   "cell_type": "code",
   "execution_count": 30,
   "metadata": {},
   "outputs": [],
   "source": [
    "import numpy as np\n",
    "import pandas as pd\n",
    "import csv\n",
    "import time\n",
    "import matplotlib.pyplot as plt"
   ]
  },
  {
   "cell_type": "markdown",
   "metadata": {},
   "source": [
    "## Reading the CSV File Containing Data"
   ]
  },
  {
   "cell_type": "code",
   "execution_count": 31,
   "metadata": {},
   "outputs": [],
   "source": [
    "with open('/Users/satyamsaxena/Downloads/csv_result-messidor_features.csv', 'r') as f:\n",
    "    dataset = list(csv.reader(f, delimiter=','))"
   ]
  },
  {
   "cell_type": "markdown",
   "metadata": {},
   "source": [
    "This prints the headers of the data that we have. Note that first column 'id' is the serial number column and the last column 'Class' represents the true label of the images as 1: Having Diabetic Retinopathy or 0: Not having Diabetic Retinopathy "
   ]
  },
  {
   "cell_type": "code",
   "execution_count": 32,
   "metadata": {},
   "outputs": [
    {
     "name": "stdout",
     "output_type": "stream",
     "text": [
      "['id', '0', '1', '2', '3', '4', '5', '6', '7', '8', '9', '10', '11', '12', '13', '14', '15', '16', '17', '18', 'Class']\n"
     ]
    }
   ],
   "source": [
    "print(dataset[0])"
   ]
  },
  {
   "cell_type": "markdown",
   "metadata": {},
   "source": [
    "Here we remove the first row (headers) and first column (id) to obtain the numerical data values"
   ]
  },
  {
   "cell_type": "code",
   "execution_count": 33,
   "metadata": {},
   "outputs": [
    {
     "data": {
      "text/plain": [
       "array([[ 1.      ,  1.      , 22.      , ...,  0.100025,  1.      ,\n",
       "         0.      ],\n",
       "       [ 1.      ,  1.      , 24.      , ...,  0.144414,  0.      ,\n",
       "         0.      ],\n",
       "       [ 1.      ,  1.      , 62.      , ...,  0.128548,  0.      ,\n",
       "         1.      ],\n",
       "       ...,\n",
       "       [ 1.      ,  0.      , 49.      , ...,  0.129843,  0.      ,\n",
       "         0.      ],\n",
       "       [ 1.      ,  1.      , 39.      , ...,  0.10669 ,  1.      ,\n",
       "         1.      ],\n",
       "       [ 1.      ,  1.      ,  7.      , ...,  0.088957,  0.      ,\n",
       "         0.      ]])"
      ]
     },
     "execution_count": 33,
     "metadata": {},
     "output_type": "execute_result"
    }
   ],
   "source": [
    "dataset = np.array(dataset[1:],dtype = np.float)\n",
    "dataset = np.delete(dataset,0,axis=1)\n",
    "dataset"
   ]
  },
  {
   "cell_type": "markdown",
   "metadata": {},
   "source": [
    "We obtain a dataset with 1151 unique records each having 20 features, one of which is the true label"
   ]
  },
  {
   "cell_type": "code",
   "execution_count": 34,
   "metadata": {},
   "outputs": [
    {
     "data": {
      "text/plain": [
       "(1151, 20)"
      ]
     },
     "execution_count": 34,
     "metadata": {},
     "output_type": "execute_result"
    }
   ],
   "source": [
    "dataset.shape"
   ]
  },
  {
   "cell_type": "markdown",
   "metadata": {},
   "source": [
    "## Splitting into training and test datasets (70% ; 30%)"
   ]
  },
  {
   "cell_type": "code",
   "execution_count": 35,
   "metadata": {},
   "outputs": [
    {
     "name": "stdout",
     "output_type": "stream",
     "text": [
      "806\n",
      "345\n"
     ]
    }
   ],
   "source": [
    "training_data_size = round(dataset.shape[0]*0.7)\n",
    "print(training_data_size)\n",
    "test_data_size = dataset.shape[0] - training_data_size\n",
    "print(test_data_size)"
   ]
  },
  {
   "cell_type": "code",
   "execution_count": 36,
   "metadata": {},
   "outputs": [],
   "source": [
    "dataset_copy = dataset"
   ]
  },
  {
   "cell_type": "code",
   "execution_count": 37,
   "metadata": {},
   "outputs": [],
   "source": [
    "np.random.shuffle(dataset_copy)\n",
    "training_data, test_data = dataset_copy[0:training_data_size],dataset_copy[training_data_size:]"
   ]
  },
  {
   "cell_type": "code",
   "execution_count": 38,
   "metadata": {},
   "outputs": [
    {
     "name": "stdout",
     "output_type": "stream",
     "text": [
      "(806, 20)\n",
      "(345, 20)\n"
     ]
    }
   ],
   "source": [
    "print(training_data.shape)\n",
    "print(test_data.shape)"
   ]
  },
  {
   "cell_type": "markdown",
   "metadata": {},
   "source": [
    "Removing true image labels from the training data matrix and saving it as training outputs"
   ]
  },
  {
   "cell_type": "code",
   "execution_count": 39,
   "metadata": {},
   "outputs": [],
   "source": [
    "training_set_features, training_set_outputs = training_data[:,0:training_data.shape[1]-1],training_data[:,training_data.shape[1]-1]\n",
    "training_set_outputs = training_set_outputs.reshape(training_data.shape[0],1)"
   ]
  },
  {
   "cell_type": "code",
   "execution_count": 40,
   "metadata": {},
   "outputs": [
    {
     "name": "stdout",
     "output_type": "stream",
     "text": [
      "(19, 806)\n",
      "(1, 806)\n"
     ]
    }
   ],
   "source": [
    "training_set_features = training_set_features.transpose()\n",
    "training_set_outputs = training_set_outputs.transpose()\n",
    "print(training_set_features.shape)\n",
    "print(training_set_outputs.shape)"
   ]
  },
  {
   "cell_type": "markdown",
   "metadata": {},
   "source": [
    "Removing true image labels from the test data matrix and saving it as test outputs"
   ]
  },
  {
   "cell_type": "code",
   "execution_count": 41,
   "metadata": {},
   "outputs": [],
   "source": [
    "test_set_features, test_set_outputs = test_data[:,0:test_data.shape[1]-1],test_data[:,test_data.shape[1]-1]\n",
    "test_set_outputs = test_set_outputs.reshape(test_data.shape[0],1)"
   ]
  },
  {
   "cell_type": "code",
   "execution_count": 42,
   "metadata": {},
   "outputs": [
    {
     "name": "stdout",
     "output_type": "stream",
     "text": [
      "(19, 345)\n",
      "(1, 345)\n"
     ]
    }
   ],
   "source": [
    "test_set_features = test_set_features.transpose()\n",
    "test_set_outputs = test_set_outputs.transpose()\n",
    "print(test_set_features.shape)\n",
    "print(test_set_outputs.shape)"
   ]
  },
  {
   "cell_type": "markdown",
   "metadata": {},
   "source": [
    "# Layer Sizes Function\n",
    "#### This function returns the input layer size, the number of nodes in the hidden layer and the output layer size"
   ]
  },
  {
   "cell_type": "code",
   "execution_count": 43,
   "metadata": {},
   "outputs": [],
   "source": [
    "def layer_sizes(X, Y, hyper):\n",
    "    \n",
    "    n_x = X.shape[0]\n",
    "    n_h = hyper[1]\n",
    "    n_y = Y.shape[0]\n",
    "\n",
    "    return (n_x, n_h, n_y)"
   ]
  },
  {
   "cell_type": "markdown",
   "metadata": {},
   "source": [
    "# Initialising Parameters\n",
    "#### This function initialises the parameters W1, W2 (weights for input layer and hidden layer) as random values and b1, b2 as numpy arrays full of zeroes"
   ]
  },
  {
   "cell_type": "code",
   "execution_count": 45,
   "metadata": {},
   "outputs": [],
   "source": [
    "def initialize_parameters(n_x, n_h, n_y):\n",
    "    \n",
    "    W1 = np.random.randn(n_h,n_x)\n",
    "    b1 = np.zeros((n_h,1))\n",
    "    W2 = np.random.randn(n_y,n_h)\n",
    "    b2 = np.zeros((n_y,1))\n",
    "    \n",
    "    assert (W1.shape == (n_h, n_x))\n",
    "    assert (b1.shape == (n_h, 1))\n",
    "    assert (W2.shape == (n_y, n_h))\n",
    "    assert (b2.shape == (n_y, 1))\n",
    "    \n",
    "    #Creating a dictionary with all the initialised parameter values\n",
    "    parameters = {\"W1\": W1,\n",
    "                  \"b1\": b1,\n",
    "                  \"W2\": W2,\n",
    "                  \"b2\": b2}\n",
    "    \n",
    "    return parameters"
   ]
  },
  {
   "cell_type": "markdown",
   "metadata": {},
   "source": [
    "In this test example we can see that the parameters W1, W2, b1 and b2 have been initialised to their respective values"
   ]
  },
  {
   "cell_type": "code",
   "execution_count": 46,
   "metadata": {},
   "outputs": [
    {
     "name": "stdout",
     "output_type": "stream",
     "text": [
      "W1 = [[-1.16699607 -0.52503321 -1.83550517  0.26944362 -1.61231835  0.57064087\n",
      "  -0.90122079  0.70043787  0.3259946  -0.41656683]\n",
      " [-0.7586883   0.12014371  1.10724041 -0.084239    0.2160564   2.00095096\n",
      "  -0.568479    1.0855279   0.96576919 -0.6251339 ]\n",
      " [ 0.66241543  1.77041858  0.60407375 -1.28220531 -0.24560295 -0.85240378\n",
      "  -0.18780361  0.06416823  2.01903545  0.96145004]\n",
      " [ 0.92906555  0.60397873 -1.59721402  1.70806126  1.57312165 -0.26194329\n",
      "   0.38499459  0.84770345 -0.25127191 -0.37972622]]\n",
      "b1 = [[0.]\n",
      " [0.]\n",
      " [0.]\n",
      " [0.]]\n",
      "W2 = [[ 0.70214433 -0.15717744  0.15714526  0.38816713]]\n",
      "b2 = [[0.]]\n"
     ]
    }
   ],
   "source": [
    "n_x, n_h, n_y = 10,4,1\n",
    "\n",
    "parameters = initialize_parameters(n_x, n_h, n_y)\n",
    "print(\"W1 = \" + str(parameters[\"W1\"]))\n",
    "print(\"b1 = \" + str(parameters[\"b1\"]))\n",
    "print(\"W2 = \" + str(parameters[\"W2\"]))\n",
    "print(\"b2 = \" + str(parameters[\"b2\"]))"
   ]
  },
  {
   "cell_type": "markdown",
   "metadata": {},
   "source": [
    "# Forward Propagation"
   ]
  },
  {
   "cell_type": "code",
   "execution_count": 47,
   "metadata": {},
   "outputs": [],
   "source": [
    "def forward_propagation(X, parameters):\n",
    "   \n",
    "    # Retrieving each parameter from the dictionary \"parameters\"\n",
    "    W1 = parameters[\"W1\"]\n",
    "    b1 = parameters[\"b1\"]\n",
    "    W2 = parameters[\"W2\"]\n",
    "    b2 = parameters[\"b2\"]\n",
    "    \n",
    "    # Implement Forward Propagation to calculate A2 (probabilities)\n",
    "    Z1 = np.dot(W1,X)+b1\n",
    "    A1 = np.tanh(Z1) #Here I used the tanh function as the activation function for the first layer\n",
    "    Z2 = np.dot(W2,A1)+b2\n",
    "    A2 = sigmoid(Z2) #Here I used the sigmoid function (defined later) as the activation function for the second layer.\n",
    "    \n",
    "    # To ensure that dimensions of output probabilities are of the required shape\n",
    "    assert(A2.shape == (1, X.shape[1]))\n",
    "    \n",
    "    # All the values of the calculated matrices are stored in the dictionary cache\n",
    "    cache = {\"Z1\": Z1,\n",
    "             \"A1\": A1,\n",
    "             \"Z2\": Z2,\n",
    "             \"A2\": A2}\n",
    "    \n",
    "    return A2, cache"
   ]
  },
  {
   "cell_type": "markdown",
   "metadata": {},
   "source": [
    "# Computing Cost Function\n",
    "#### This function calculates the average cost over all the training examples using the logistic regression cost function \n",
    "#### [ mean of -y(log A2) - (1-y) log (1-A2) ]"
   ]
  },
  {
   "cell_type": "code",
   "execution_count": 48,
   "metadata": {},
   "outputs": [],
   "source": [
    "def compute_cost(A2, Y):\n",
    "    \"\"\"\n",
    "    Computes the cross-entropy cost given in equation (13)\n",
    "    \n",
    "    Arguments:\n",
    "    A2 -- The sigmoid output of the second activation, of shape (1, number of examples)\n",
    "    Y -- \"true\" labels vector of shape (1, number of examples)\n",
    "    parameters -- python dictionary containing your parameters W1, b1, W2 and b2\n",
    "    \n",
    "    Returns:\n",
    "    cost -- cross-entropy cost given equation (13)\n",
    "    \n",
    "    \"\"\"\n",
    "    \n",
    "    m = Y.shape[1] # number of examples\n",
    "\n",
    "    # Computing the cross-entropy cost   \n",
    "    logprobs = Y*np.log(A2) + (1-Y)*np.log(1-A2)\n",
    "    cost = -1*(1/m)*np.sum(logprobs)\n",
    "    \n",
    "    cost = float(np.squeeze(cost))  # makes sure cost is the dimension we expect. \n",
    "\n",
    "    assert(isinstance(cost, float))\n",
    "    \n",
    "    return cost"
   ]
  },
  {
   "cell_type": "markdown",
   "metadata": {},
   "source": [
    "# Backward Propagation\n",
    "#### This function propagates backwards through the neural network to compute the derivatives that will be used to update the weights"
   ]
  },
  {
   "cell_type": "code",
   "execution_count": 49,
   "metadata": {},
   "outputs": [],
   "source": [
    "def backward_propagation(parameters, cache, X, Y):\n",
    "    \n",
    "    m = X.shape[1]\n",
    "    \n",
    "    # Retrieving W1 and W2 from the dictionary \"parameters\".\n",
    "    W1 = parameters[\"W1\"]\n",
    "    W2 = parameters[\"W2\"]\n",
    "    \n",
    "    # Retrieving A1 and A2 from dictionary \"cache\".\n",
    "    A1 = cache[\"A1\"]\n",
    "    A2 = cache[\"A2\"]\n",
    "    \n",
    "    # Backward propagation: calculating dW1, db1, dW2, db2. \n",
    "    dZ2 = A2-Y\n",
    "    dW2 = (1/m)*(np.dot(dZ2,A1.transpose()))\n",
    "    db2 = (1/m)*np.sum(dZ2,axis=1,keepdims = True)\n",
    "    dZ1 = (np.dot(W2.transpose(),dZ2))*(1-np.power(A1,2))\n",
    "    dW1 = (1/m)*np.dot(dZ1,X.transpose())\n",
    "    db1 = (1/m)*np.sum(dZ1,axis = 1, keepdims = True)\n",
    "\n",
    "    #storing all derivatives in the grads dictionary\n",
    "    grads = {\"dW1\": dW1,\n",
    "             \"db1\": db1,\n",
    "             \"dW2\": dW2,\n",
    "             \"db2\": db2}\n",
    "    \n",
    "    return grads"
   ]
  },
  {
   "cell_type": "markdown",
   "metadata": {},
   "source": [
    "# Updating Parameters\n",
    "#### This function computes the updated values of all the parameters using the derivatives computed in backpropagation"
   ]
  },
  {
   "cell_type": "code",
   "execution_count": 50,
   "metadata": {},
   "outputs": [],
   "source": [
    "def update_parameters(parameters, grads, hyper):\n",
    "    \n",
    "    # Retrieving each parameter from the dictionary \"parameters\"\n",
    "    W1 = parameters[\"W1\"]\n",
    "    b1 = parameters[\"b1\"]\n",
    "    W2 = parameters[\"W2\"]\n",
    "    b2 = parameters[\"b2\"]\n",
    "\n",
    "    learning_rate = hyper[0]\n",
    "\n",
    "    # Retrieving each gradient from the dictionary \"grads\"\n",
    "    dW1 = grads[\"dW1\"]\n",
    "    db1 = grads[\"db1\"]\n",
    "    dW2 = grads[\"dW2\"]\n",
    "    db2 = grads[\"db2\"]\n",
    "    \n",
    "    # Updating the parameters\n",
    "    W1 = W1 - learning_rate*dW1\n",
    "    b1 = b1 - learning_rate*db1\n",
    "    W2 = W2 - learning_rate*dW2\n",
    "    b2 = b2 - learning_rate*db2\n",
    "\n",
    "    #storing updated parameters in the parameters dictionary\n",
    "    parameters = {\"W1\": W1,\n",
    "                  \"b1\": b1,\n",
    "                  \"W2\": W2,\n",
    "                  \"b2\": b2}\n",
    "    \n",
    "    return parameters"
   ]
  },
  {
   "cell_type": "markdown",
   "metadata": {},
   "source": [
    "# Training the Model\n",
    "#### Using all the functions developed previous, now the actual training of neural network is performed"
   ]
  },
  {
   "cell_type": "code",
   "execution_count": 51,
   "metadata": {},
   "outputs": [],
   "source": [
    "def nn_model(X, Y, hyperparameters):\n",
    "   \n",
    "    # Obtaining the Sizes of the Neural Network Layers\n",
    "    n_x = layer_sizes(X, Y,hyperparameters)[0]\n",
    "    n_h = layer_sizes(X, Y,hyperparameters)[1]\n",
    "    n_y = layer_sizes(X, Y,hyperparameters)[2]\n",
    "    \n",
    "    # Initialising parameters\n",
    "    parameters = initialize_parameters(n_x, n_h, n_y)\n",
    "    \n",
    "    # Looping till convergence (epsilon taken as 3*10^-7 instead of 10^-5 for better performance\n",
    "    previous_cost = 0\n",
    "    converged = 0\n",
    "    iterations = 0\n",
    "    while(converged == 0):     \n",
    "        # Forward propagation\n",
    "        A2, cache = forward_propagation(X, parameters)\n",
    "        \n",
    "        # Cost function\n",
    "        cost = compute_cost(A2, Y)\n",
    "        delta = abs(cost - previous_cost)\n",
    "        if delta<0.0000003:\n",
    "            converged = 1\n",
    "        previous_cost = cost\n",
    "        # Backpropagation\n",
    "        grads = backward_propagation(parameters, cache, X, Y)\n",
    " \n",
    "        # Gradient descent parameter update\n",
    "        parameters = update_parameters(parameters, grads, hyperparameters)\n",
    "        iterations+=1\n",
    "                \n",
    "    return parameters"
   ]
  },
  {
   "cell_type": "markdown",
   "metadata": {},
   "source": [
    "# Finding Parameters on One set of Hyperparameters"
   ]
  },
  {
   "cell_type": "markdown",
   "metadata": {},
   "source": [
    "#### Defining the sigmoid function"
   ]
  },
  {
   "cell_type": "code",
   "execution_count": 52,
   "metadata": {},
   "outputs": [],
   "source": [
    "def sigmoid(z):\n",
    "    sig = 1/(1+np.exp(-1*z))\n",
    "    return sig"
   ]
  },
  {
   "cell_type": "code",
   "execution_count": 53,
   "metadata": {},
   "outputs": [
    {
     "name": "stdout",
     "output_type": "stream",
     "text": [
      "W1 = [[ 1.11697758 -1.75150617  0.8536715   0.09766975  1.02176724 -0.37276105\n",
      "   0.55884165 -1.13461916  0.61999574 -1.02658354  2.30120287 -1.02413672\n",
      "  -0.92472023 -1.03420569 -0.18227466  2.14494273  0.69903177  0.16090665\n",
      "  -0.17848138]\n",
      " [-0.19941468  1.02005582  0.3117793  -0.81367823 -2.77143729  0.68936309\n",
      "  -0.43002483 -0.67211106 -0.0977886  -0.49294539  0.12787722 -1.66837468\n",
      "  -0.85668614 -1.38626657 -0.70937317  0.86284409 -1.35339935 -1.49438641\n",
      "  -0.72633391]\n",
      " [ 0.22338688  0.8615982   0.38537351 -0.11736551  0.72217736  0.10731715\n",
      "  -0.98236318  1.12859386 -0.18750083  0.90494197  0.17747108 -0.12581818\n",
      "   1.99410755  0.31430075  0.65551097 -0.10603993  1.04352308 -0.15928494\n",
      "   0.47958229]\n",
      " [-0.97592684  0.7688015   0.82258143 -0.38881001  2.58729928  1.57086437\n",
      "   0.99741213 -0.67635235 -0.79391917  0.10598948 -2.02180388 -0.7928525\n",
      "  -0.62125906 -0.31353704 -1.59269281 -0.60227407 -1.41389251 -0.70279065\n",
      "   0.42183299]\n",
      " [-1.80091901  1.39612743 -2.50142091 -2.1484848  -1.23660019  0.08389788\n",
      "   1.84491166  0.00794054  1.19456148  0.4941395  -0.59051239 -0.46052467\n",
      "  -1.23201738  0.66482935  1.10473001  0.28145159  0.41793096 -0.57240212\n",
      "   0.51339229]\n",
      " [-0.12684934 -1.67456073 -0.99739145  0.01859739 -1.16433556  0.629446\n",
      "  -0.46178987 -0.86049715  0.3721842  -2.0060841  -1.46562268  0.17544152\n",
      "  -1.33362303  0.69373117  0.48211323  0.2151302   0.58899672  0.19440705\n",
      "   0.18312478]\n",
      " [ 0.97824957 -0.2795466  -0.31715124 -0.43359362 -0.42416908  0.38723659\n",
      "   0.13458788  0.36356585 -0.20891245 -0.28817852 -1.07397141 -1.42874223\n",
      "  -0.09096788 -1.60211693 -0.89661144 -0.37052431  1.06142238 -0.42009948\n",
      "   0.16854531]\n",
      " [ 1.08215694 -1.82024245 -0.36734118 -0.30540749 -1.6220975   0.06703016\n",
      "   0.06870805 -0.39272221  1.20054663  0.33160075 -2.0983325  -1.2960508\n",
      "   0.22683069 -0.09476028  0.65049634 -0.8282629   0.59278343  0.37084225\n",
      "   0.30859649]]\n",
      "b1 = [[ 1.88235110e-06]\n",
      " [-4.17128382e-08]\n",
      " [ 1.18939463e-01]\n",
      " [ 7.96354025e-04]\n",
      " [ 4.63108702e-02]\n",
      " [-7.74333568e-03]\n",
      " [-1.30690751e-02]\n",
      " [-1.41705952e-02]]\n",
      "W2 = [[ 0.3341574   0.52017454 -0.72816645 -0.23782668 -0.60419453 -1.08307705\n",
      "   0.32185784  0.19559154]]\n",
      "b2 = [[0.13055457]]\n"
     ]
    }
   ],
   "source": [
    "found_parameters = nn_model(training_set_features,training_set_outputs,(0.1,8))\n",
    "print(\"W1 = \" + str(found_parameters[\"W1\"]))\n",
    "print(\"b1 = \" + str(found_parameters[\"b1\"]))\n",
    "print(\"W2 = \" + str(found_parameters[\"W2\"]))\n",
    "print(\"b2 = \" + str(found_parameters[\"b2\"]))"
   ]
  },
  {
   "cell_type": "markdown",
   "metadata": {},
   "source": [
    "### Making Predictions\n",
    "#### This function will allow us to predict the outputs given a set of computed parameters"
   ]
  },
  {
   "cell_type": "code",
   "execution_count": 54,
   "metadata": {},
   "outputs": [],
   "source": [
    "def predict(parameters, X):\n",
    "    \n",
    "    # Computes probabilities using forward propagation, and classifies to 0/1 using 0.5 as the threshold.\n",
    "    A2, cache = forward_propagation(X, parameters)\n",
    "    predictions = A2\n",
    "    for i in range(predictions.shape[1]):\n",
    "        if predictions[0][i]>0.5:\n",
    "            predictions[0][i]=1\n",
    "        else:\n",
    "            predictions[0][i]=0    \n",
    "    \n",
    "    return predictions"
   ]
  },
  {
   "cell_type": "code",
   "execution_count": 55,
   "metadata": {},
   "outputs": [
    {
     "name": "stdout",
     "output_type": "stream",
     "text": [
      "[[0. 1. 0. 0. 1. 1. 0. 1. 0. 1. 1. 0. 1. 1. 1. 0. 0. 1. 1. 0. 0. 1. 1. 1.\n",
      "  1. 0. 1. 1. 1. 1. 1. 0. 1. 0. 0. 1. 1. 1. 1. 1. 0. 0. 1. 0. 0. 0. 1. 1.\n",
      "  1. 1. 1. 1. 1. 1. 1. 1. 1. 0. 1. 1. 0. 1. 0. 1. 1. 1. 1. 0. 1. 1. 0. 1.\n",
      "  1. 0. 0. 1. 0. 1. 1. 1. 1. 0. 1. 1. 1. 1. 1. 0. 1. 1. 0. 0. 0. 1. 1. 0.\n",
      "  1. 1. 1. 1. 0. 0. 1. 1. 1. 1. 1. 0. 1. 0. 0. 1. 1. 1. 1. 1. 1. 0. 0. 1.\n",
      "  0. 1. 1. 1. 1. 0. 1. 1. 1. 1. 0. 0. 1. 1. 1. 1. 1. 1. 0. 0. 1. 1. 1. 0.\n",
      "  0. 1. 1. 1. 0. 0. 1. 1. 1. 0. 0. 0. 1. 0. 1. 1. 1. 1. 0. 1. 0. 1. 1. 1.\n",
      "  1. 1. 0. 1. 0. 0. 1. 1. 1. 1. 1. 1. 1. 1. 1. 1. 1. 1. 1. 0. 1. 0. 1. 1.\n",
      "  0. 1. 1. 1. 0. 0. 0. 1. 1. 0. 1. 1. 0. 1. 0. 1. 1. 1. 0. 1. 0. 1. 1. 0.\n",
      "  1. 0. 1. 1. 1. 1. 1. 0. 1. 1. 1. 0. 0. 1. 1. 1. 0. 0. 1. 1. 1. 1. 1. 1.\n",
      "  1. 1. 1. 1. 0. 1. 1. 0. 0. 0. 1. 1. 0. 0. 1. 0. 1. 1. 1. 0. 1. 1. 1. 1.\n",
      "  1. 1. 0. 1. 0. 1. 1. 1. 1. 1. 1. 1. 0. 1. 1. 1. 1. 1. 0. 0. 1. 1. 0. 0.\n",
      "  1. 1. 1. 0. 1. 0. 0. 1. 1. 1. 1. 1. 1. 1. 1. 1. 1. 1. 1. 1. 0. 1. 0. 0.\n",
      "  1. 1. 1. 1. 1. 1. 0. 0. 1. 0. 1. 1. 0. 1. 1. 1. 1. 1. 1. 0. 0. 1. 1. 0.\n",
      "  1. 0. 1. 1. 1. 1. 1. 0. 1. 1. 1. 1. 1. 1. 0. 1. 1. 1. 1. 1. 0. 1. 1. 1.\n",
      "  1. 1. 1. 1. 0. 0. 0. 1. 1. 1. 1. 0. 0. 0. 1. 1. 0. 1. 0. 1. 1. 1. 1. 0.\n",
      "  1. 1. 1. 1. 1. 0. 1. 0. 1. 1. 0. 1. 1. 0. 0. 1. 0. 0. 0. 1. 1. 1. 0. 1.\n",
      "  0. 1. 0. 1. 1. 0. 0. 1. 1. 1. 1. 0. 1. 1. 1. 1. 1. 1. 1. 0. 1. 0. 0. 1.\n",
      "  1. 1. 1. 1. 1. 0. 1. 1. 0. 0. 1. 1. 1. 0. 0. 1. 1. 1. 0. 1. 0. 1. 0. 0.\n",
      "  1. 1. 1. 0. 0. 1. 0. 1. 1. 1. 1. 0. 1. 1. 1. 1. 0. 0. 1. 1. 0. 1. 1. 1.\n",
      "  0. 0. 1. 0. 1. 1. 1. 1. 0. 1. 0. 1. 1. 1. 1. 1. 0. 1. 0. 1. 1. 0. 0. 1.\n",
      "  1. 1. 0. 1. 1. 0. 0. 1. 1. 0. 0. 1. 0. 1. 0. 1. 1. 1. 1. 1. 1. 0. 0. 1.\n",
      "  1. 1. 0. 1. 0. 1. 0. 1. 0. 1. 0. 0. 1. 1. 1. 1. 1. 1. 0. 1. 0. 1. 0. 1.\n",
      "  0. 1. 0. 1. 1. 0. 1. 0. 1. 1. 1. 1. 0. 1. 1. 1. 1. 1. 1. 1. 0. 1. 1. 0.\n",
      "  1. 0. 0. 1. 1. 0. 1. 1. 1. 1. 1. 1. 0. 1. 1. 1. 1. 1. 1. 1. 0. 1. 1. 0.\n",
      "  1. 1. 0. 1. 0. 1. 1. 1. 1. 1. 1. 1. 1. 1. 1. 1. 1. 1. 1. 1. 1. 1. 0. 1.\n",
      "  1. 1. 0. 1. 1. 1. 1. 0. 1. 1. 0. 1. 1. 1. 1. 0. 1. 0. 1. 1. 1. 1. 1. 1.\n",
      "  1. 1. 1. 0. 1. 1. 1. 1. 1. 1. 1. 0. 0. 1. 1. 1. 1. 1. 0. 0. 0. 0. 0. 0.\n",
      "  1. 1. 1. 1. 1. 1. 1. 1. 1. 0. 1. 0. 0. 1. 1. 1. 1. 1. 1. 0. 1. 1. 0. 1.\n",
      "  0. 0. 1. 0. 1. 1. 1. 1. 1. 1. 0. 0. 0. 1. 1. 1. 0. 1. 1. 0. 1. 1. 1. 0.\n",
      "  1. 1. 1. 0. 1. 0. 1. 1. 1. 1. 1. 0. 1. 1. 0. 1. 0. 1. 0. 1. 1. 0. 1. 0.\n",
      "  1. 1. 1. 1. 1. 1. 1. 0. 0. 0. 1. 1. 1. 0. 1. 1. 1. 1. 1. 0. 0. 0. 1. 1.\n",
      "  1. 1. 1. 0. 0. 1. 1. 0. 1. 1. 1. 1. 1. 1. 0. 1. 1. 0. 0. 1. 1. 0. 0. 1.\n",
      "  1. 1. 0. 1. 1. 1. 1. 0. 1. 1. 1. 1. 1. 1.]]\n"
     ]
    }
   ],
   "source": [
    "predicted_values = predict(found_parameters,training_set_features)\n",
    "print(predicted_values)"
   ]
  },
  {
   "cell_type": "markdown",
   "metadata": {},
   "source": [
    "Computing the training accuracy for one set of hyperparameters"
   ]
  },
  {
   "cell_type": "code",
   "execution_count": 57,
   "metadata": {},
   "outputs": [
    {
     "name": "stdout",
     "output_type": "stream",
     "text": [
      "56.20347394540943 %\n"
     ]
    }
   ],
   "source": [
    "counter = 0\n",
    "for i in range(training_set_outputs.shape[1]):\n",
    "    if training_set_outputs[0][i]==predicted_values[0][i]:\n",
    "        counter+=1\n",
    "print(counter*100/training_set_outputs.shape[1],\"%\")"
   ]
  },
  {
   "cell_type": "markdown",
   "metadata": {},
   "source": [
    "# Defining the hyperparameters"
   ]
  },
  {
   "cell_type": "code",
   "execution_count": 61,
   "metadata": {},
   "outputs": [
    {
     "data": {
      "text/plain": [
       "(0.01, 4)"
      ]
     },
     "execution_count": 61,
     "metadata": {},
     "output_type": "execute_result"
    }
   ],
   "source": [
    "hyperparameters = [(0.01,4),(0.01,8),(0.05,4),(0.05,8),(0.1,4),(0.1,8),(0.4,4),(0.4,8),(0.8,4),(0.8,8)]\n",
    "hyperparameters[0]"
   ]
  },
  {
   "cell_type": "markdown",
   "metadata": {},
   "source": [
    "# Running 2-Fold Cross-Validation"
   ]
  },
  {
   "cell_type": "markdown",
   "metadata": {},
   "source": [
    "#### Defining a 10 X 20 Numpy array that will hold the values of the cross-validation accuracies"
   ]
  },
  {
   "cell_type": "code",
   "execution_count": 60,
   "metadata": {},
   "outputs": [
    {
     "data": {
      "text/plain": [
       "(10, 20)"
      ]
     },
     "execution_count": 60,
     "metadata": {},
     "output_type": "execute_result"
    }
   ],
   "source": [
    "cross_validation_accuracies = np.zeros((10,20))\n",
    "cross_validation_accuracies.shape"
   ]
  },
  {
   "cell_type": "markdown",
   "metadata": {},
   "source": [
    "#### The function for k-fold cross validation"
   ]
  },
  {
   "cell_type": "code",
   "execution_count": 64,
   "metadata": {},
   "outputs": [],
   "source": [
    "def k_fold_cross_validation(k, data, data_outputs,hyper):\n",
    "    accuracies = []\n",
    "    #data: (19,806)\n",
    "    n = data.shape[1] #806\n",
    "    for i in range(k): #k=2\n",
    "        start = int((n*i)/k)\n",
    "        end = int((n*(i+1))/k-1) #402\n",
    "        validn_inputs = data[:,start:end+1]\n",
    "        validn_outputs = data_outputs[:,start:end+1]#[:,0->402]\n",
    "        training_inputs = np.append(data[:,0:start],data[:,end+1:n],axis=1)\n",
    "        training_outputs = np.append(data_outputs[:,0:start],data_outputs[:,end+1:n],axis=1) \n",
    "        found_parameters = nn_model(training_inputs,training_outputs,hyper)\n",
    "        predicted_values = predict(found_parameters,validn_inputs)\n",
    "        counter = 0\n",
    "        for j in range(predicted_values.shape[1]):\n",
    "            if validn_outputs[0][j]==predicted_values[0][j]:\n",
    "                counter+=1\n",
    "        accuracy = counter/predicted_values.shape[1]\n",
    "        accuracies.append(accuracy)\n",
    "    avg = sum(accuracies)/len(accuracies)\n",
    "    print(avg)\n",
    "    return (avg)"
   ]
  },
  {
   "cell_type": "markdown",
   "metadata": {},
   "source": [
    "### Running K-Folds Cross Validation for 20 different random initialisation values for each of the ten sets of hyperparameters and storing them"
   ]
  },
  {
   "cell_type": "code",
   "execution_count": 67,
   "metadata": {
    "scrolled": false
   },
   "outputs": [
    {
     "name": "stdout",
     "output_type": "stream",
     "text": [
      "0.6315136476426799\n",
      "0.5955334987593053\n",
      "0.5471464019851117\n",
      "0.4975186104218362\n",
      "0.5421836228287841\n",
      "0.49379652605459057\n",
      "0.5521091811414391\n",
      "0.4987593052109181\n",
      "0.5111662531017369\n",
      "0.5620347394540943\n",
      "0.488833746898263\n",
      "0.5570719602977667\n",
      "0.543424317617866\n",
      "0.5186104218362283\n",
      "0.6600496277915633\n",
      "0.4975186104218362\n",
      "0.6104218362282878\n",
      "0.5297766749379652\n",
      "0.5186104218362283\n",
      "0.5223325062034739\n",
      "0.6401985111662531\n",
      "0.5942928039702233\n",
      "0.4925558312655087\n",
      "0.5223325062034739\n",
      "0.5062034739454094\n",
      "0.6761786600496278\n",
      "0.586848635235732\n",
      "0.6799007444168734\n",
      "0.6426799007444168\n",
      "0.5421836228287841\n",
      "0.5880893300248139\n",
      "0.6774193548387097\n",
      "0.5248138957816377\n",
      "0.6004962779156328\n",
      "0.6240694789081886\n",
      "0.6600496277915633\n",
      "0.5794044665012408\n",
      "0.5856079404466501\n",
      "0.6066997518610422\n",
      "0.5669975186104218\n",
      "0.6054590570719602\n",
      "0.5682382133995036\n",
      "0.5359801488833746\n",
      "0.6451612903225806\n",
      "0.5074441687344913\n",
      "0.48635235732009924\n",
      "0.4826302729528536\n",
      "0.5148883374689825\n",
      "0.532258064516129\n",
      "0.5372208436724566\n",
      "0.5682382133995036\n",
      "0.4838709677419355\n",
      "0.48263027295285355\n",
      "0.5223325062034739\n",
      "0.5024813895781638\n",
      "0.6240694789081886\n",
      "0.4789081885856079\n",
      "0.5310173697270472\n",
      "0.5930521091811414\n",
      "0.609181141439206\n",
      "0.5124069478908189\n",
      "0.598014888337469\n",
      "0.5397022332506203\n",
      "0.5359801488833746\n",
      "0.6178660049627791\n",
      "0.5930521091811414\n",
      "0.5049627791563276\n",
      "0.6811414392059554\n",
      "0.6612903225806451\n",
      "0.5459057071960298\n",
      "0.4913151364764268\n",
      "0.533498759305211\n",
      "0.6377171215880894\n",
      "0.5372208436724566\n",
      "0.6910669975186104\n",
      "0.5186104218362282\n",
      "0.5372208436724566\n",
      "0.609181141439206\n",
      "0.5124069478908189\n",
      "0.7121588089330024\n",
      "0.5781637717121588\n",
      "0.49255583126550867\n",
      "0.5669975186104218\n",
      "0.5049627791563276\n",
      "0.5893300248138957\n",
      "0.56575682382134\n",
      "0.6042183622828784\n",
      "0.6538461538461537\n",
      "0.5186104218362283\n",
      "0.467741935483871\n",
      "0.6116625310173698\n",
      "0.48759305210918114\n",
      "0.5111662531017369\n",
      "0.533498759305211\n",
      "0.49379652605459057\n",
      "0.5620347394540943\n",
      "0.48883374689826303\n",
      "0.5905707196029777\n",
      "0.5124069478908189\n",
      "0.531017369727047\n",
      "0.554590570719603\n",
      "0.598014888337469\n",
      "0.4975186104218362\n",
      "0.5384615384615384\n",
      "0.5707196029776674\n",
      "0.5570719602977667\n",
      "0.532258064516129\n",
      "0.4950372208436724\n",
      "0.694789081885856\n",
      "0.6774193548387097\n",
      "0.630272952853598\n",
      "0.6029776674937966\n",
      "0.5818858560794045\n",
      "0.6265508684863523\n",
      "0.6513647642679901\n",
      "0.5843672456575683\n",
      "0.5235732009925558\n",
      "0.641439205955335\n",
      "0.5992555831265509\n",
      "0.5893300248138957\n",
      "0.6290322580645161\n",
      "0.5099255583126551\n",
      "0.48883374689826303\n",
      "0.47766749379652607\n",
      "0.5818858560794045\n",
      "0.5037220843672456\n",
      "0.575682382133995\n",
      "0.532258064516129\n",
      "0.5210918114143921\n",
      "0.4801488833746898\n",
      "0.5607940446650124\n",
      "0.6327543424317619\n",
      "0.5471464019851117\n",
      "0.5024813895781637\n",
      "0.532258064516129\n",
      "0.6240694789081886\n",
      "0.501240694789082\n",
      "0.5037220843672456\n",
      "0.49503722084367247\n",
      "0.4987593052109181\n",
      "0.641439205955335\n",
      "0.533498759305211\n",
      "0.48883374689826303\n",
      "0.5409429280397022\n",
      "0.5359801488833746\n",
      "0.5794044665012408\n",
      "0.5037220843672456\n",
      "0.5310173697270472\n",
      "0.5037220843672456\n",
      "0.5347394540942928\n",
      "0.56575682382134\n",
      "0.533498759305211\n",
      "0.5409429280397022\n",
      "0.6153846153846154\n",
      "0.5384615384615384\n",
      "0.5384615384615384\n",
      "0.5210918114143921\n",
      "0.5942928039702233\n",
      "0.5918114143920595\n",
      "0.4950372208436724\n",
      "0.533498759305211\n",
      "0.5086848635235732\n",
      "0.49379652605459057\n",
      "0.6104218362282878\n",
      "0.5161290322580645\n",
      "0.533498759305211\n",
      "0.5397022332506204\n",
      "0.5421836228287842\n",
      "0.5186104218362282\n",
      "0.4652605459057072\n",
      "0.5570719602977667\n",
      "0.5124069478908189\n",
      "0.4950372208436724\n",
      "0.5471464019851117\n",
      "0.56575682382134\n",
      "0.5297766749379653\n",
      "0.5397022332506204\n",
      "0.5744416873449132\n",
      "0.49503722084367247\n",
      "0.5297766749379653\n",
      "0.5049627791563276\n",
      "0.48511166253101734\n",
      "0.5223325062034739\n",
      "0.5397022332506203\n",
      "0.49379652605459057\n",
      "0.4813895781637717\n",
      "0.56575682382134\n",
      "0.4838709677419355\n",
      "0.5\n",
      "0.5124069478908189\n",
      "0.5111662531017369\n",
      "0.5297766749379653\n",
      "0.5285359801488834\n",
      "0.5570719602977667\n",
      "0.5223325062034739\n",
      "0.488833746898263\n",
      "0.48759305210918114\n",
      "0.4640198511166253\n",
      "0.47022332506203474\n",
      "0.5074441687344913\n",
      "[[0.63151365 0.5955335  0.5471464  0.49751861 0.54218362 0.49379653\n",
      "  0.55210918 0.49875931 0.51116625 0.56203474 0.48883375 0.55707196\n",
      "  0.54342432 0.51861042 0.66004963 0.49751861 0.61042184 0.52977667\n",
      "  0.51861042 0.52233251]\n",
      " [0.64019851 0.5942928  0.49255583 0.52233251 0.50620347 0.67617866\n",
      "  0.58684864 0.67990074 0.6426799  0.54218362 0.58808933 0.67741935\n",
      "  0.5248139  0.60049628 0.62406948 0.66004963 0.57940447 0.58560794\n",
      "  0.60669975 0.56699752]\n",
      " [0.60545906 0.56823821 0.53598015 0.64516129 0.50744417 0.48635236\n",
      "  0.48263027 0.51488834 0.53225806 0.53722084 0.56823821 0.48387097\n",
      "  0.48263027 0.52233251 0.50248139 0.62406948 0.47890819 0.53101737\n",
      "  0.59305211 0.60918114]\n",
      " [0.51240695 0.59801489 0.53970223 0.53598015 0.617866   0.59305211\n",
      "  0.50496278 0.68114144 0.66129032 0.54590571 0.49131514 0.53349876\n",
      "  0.63771712 0.53722084 0.691067   0.51861042 0.53722084 0.60918114\n",
      "  0.51240695 0.71215881]\n",
      " [0.57816377 0.49255583 0.56699752 0.50496278 0.58933002 0.56575682\n",
      "  0.60421836 0.65384615 0.51861042 0.46774194 0.61166253 0.48759305\n",
      "  0.51116625 0.53349876 0.49379653 0.56203474 0.48883375 0.59057072\n",
      "  0.51240695 0.53101737]\n",
      " [0.55459057 0.59801489 0.49751861 0.53846154 0.5707196  0.55707196\n",
      "  0.53225806 0.49503722 0.69478908 0.67741935 0.63027295 0.60297767\n",
      "  0.58188586 0.62655087 0.65136476 0.58436725 0.5235732  0.64143921\n",
      "  0.59925558 0.58933002]\n",
      " [0.62903226 0.50992556 0.48883375 0.47766749 0.58188586 0.50372208\n",
      "  0.57568238 0.53225806 0.52109181 0.48014888 0.56079404 0.63275434\n",
      "  0.5471464  0.50248139 0.53225806 0.62406948 0.50124069 0.50372208\n",
      "  0.49503722 0.49875931]\n",
      " [0.64143921 0.53349876 0.48883375 0.54094293 0.53598015 0.57940447\n",
      "  0.50372208 0.53101737 0.50372208 0.53473945 0.56575682 0.53349876\n",
      "  0.54094293 0.61538462 0.53846154 0.53846154 0.52109181 0.5942928\n",
      "  0.59181141 0.49503722]\n",
      " [0.53349876 0.50868486 0.49379653 0.61042184 0.51612903 0.53349876\n",
      "  0.53970223 0.54218362 0.51861042 0.46526055 0.55707196 0.51240695\n",
      "  0.49503722 0.5471464  0.56575682 0.52977667 0.53970223 0.57444169\n",
      "  0.49503722 0.52977667]\n",
      " [0.50496278 0.48511166 0.52233251 0.53970223 0.49379653 0.48138958\n",
      "  0.56575682 0.48387097 0.5        0.51240695 0.51116625 0.52977667\n",
      "  0.52853598 0.55707196 0.52233251 0.48883375 0.48759305 0.46401985\n",
      "  0.47022333 0.50744417]]\n",
      "Time taken:  741.8662309646606\n"
     ]
    }
   ],
   "source": [
    "import time\n",
    "\n",
    "tic = time.time()\n",
    "for i in range(len(hyperparameters)):\n",
    "    for j in range(20):\n",
    "        cross_validation_accuracies[i][j] = k_fold_cross_validation(2,training_set_features,training_set_outputs,hyperparameters[i])\n",
    "\n",
    "print(cross_validation_accuracies)\n",
    "toc = time.time()\n",
    "\n",
    "print(\"Time taken: \",toc-tic)"
   ]
  },
  {
   "cell_type": "markdown",
   "metadata": {},
   "source": [
    "# Computing Mean Cross-Validation Accuracy for each set of hyperparameters"
   ]
  },
  {
   "cell_type": "code",
   "execution_count": 69,
   "metadata": {},
   "outputs": [
    {
     "data": {
      "text/plain": [
       "array([0.5439206 , 0.59485112, 0.54057072, 0.57853598, 0.54323821,\n",
       "       0.58734491, 0.53492556, 0.54640199, 0.53039702, 0.50781638])"
      ]
     },
     "execution_count": 69,
     "metadata": {},
     "output_type": "execute_result"
    }
   ],
   "source": [
    "cross_validation_accuracies_mean = np.sum(cross_validation_accuracies,axis = 1)/20\n",
    "cross_validation_accuracies_mean"
   ]
  },
  {
   "cell_type": "markdown",
   "metadata": {},
   "source": [
    "# Drawing the Box Plot"
   ]
  },
  {
   "cell_type": "code",
   "execution_count": 70,
   "metadata": {},
   "outputs": [
    {
     "data": {
      "text/plain": [
       "<matplotlib.axes._subplots.AxesSubplot at 0x11d2c3e10>"
      ]
     },
     "execution_count": 70,
     "metadata": {},
     "output_type": "execute_result"
    },
    {
     "data": {
      "image/png": "[encoded data removed]",
      "text/plain": [
       "<Figure size 432x288 with 1 Axes>"
      ]
     },
     "metadata": {
      "needs_background": "light"
     },
     "output_type": "display_data"
    }
   ],
   "source": [
    "df = pd.DataFrame(cross_validation_accuracies.transpose(), columns=['(0.01,4)','(0.01,8)','(0.05,4)','(0.05,8)','(0.1,4)','(0.1,8)','(0.4,4)','(0.4,8)','(0.8,4)','(0.8,8)'])\n",
    "df.plot.box(grid='True')"
   ]
  },
  {
   "cell_type": "markdown",
   "metadata": {},
   "source": [
    "# Choosing the best set of hyperparameters"
   ]
  },
  {
   "cell_type": "markdown",
   "metadata": {},
   "source": [
    "### Computing the 25th percentile value and 75 percentile value"
   ]
  },
  {
   "cell_type": "code",
   "execution_count": 82,
   "metadata": {},
   "outputs": [
    {
     "name": "stdout",
     "output_type": "stream",
     "text": [
      "[0.50806452 0.56079404 0.49844913 0.52977667 0.50217122 0.55055831\n",
      " 0.50062035 0.52853598 0.51147643 0.4869727 ]\n",
      "[0.55831266 0.64081886 0.57444169 0.62282878 0.58095533 0.62748139\n",
      " 0.56451613 0.56916873 0.54342432 0.52388337]\n"
     ]
    }
   ],
   "source": [
    "cross_validation_accuracies_25p = np.percentile(cross_validation_accuracies,25,axis =1)\n",
    "cross_validation_accuracies_75p = np.percentile(cross_validation_accuracies,75,axis =1)\n",
    "print(cross_validation_accuracies_25p)\n",
    "print(cross_validation_accuracies_75p)"
   ]
  },
  {
   "cell_type": "markdown",
   "metadata": {},
   "source": [
    "### Computing the interquartile range as a measure of variability of results"
   ]
  },
  {
   "cell_type": "code",
   "execution_count": 83,
   "metadata": {},
   "outputs": [
    {
     "name": "stdout",
     "output_type": "stream",
     "text": [
      "[0.05024814 0.08002481 0.07599256 0.09305211 0.07878412 0.07692308\n",
      " 0.06389578 0.04063275 0.03194789 0.03691067]\n"
     ]
    }
   ],
   "source": [
    "inter_quartile_range = cross_validation_accuracies_75p - cross_validation_accuracies_25p\n",
    "print(inter_quartile_range)"
   ]
  },
  {
   "cell_type": "markdown",
   "metadata": {},
   "source": [
    "### Computing the inverse of interquartile range as a measure of consistency of results"
   ]
  },
  {
   "cell_type": "code",
   "execution_count": 84,
   "metadata": {},
   "outputs": [
    {
     "data": {
      "text/plain": [
       "array([19.90123457, 12.49612403, 13.15918367, 10.74666667, 12.69291339,\n",
       "       13.        , 15.65048544, 24.61068702, 31.30097087, 27.09243697])"
      ]
     },
     "execution_count": 84,
     "metadata": {},
     "output_type": "execute_result"
    }
   ],
   "source": [
    "reciproc_iqr = 1/inter_quartile_range\n",
    "reciproc_iqr"
   ]
  },
  {
   "cell_type": "markdown",
   "metadata": {},
   "source": [
    "### Computing the scores for performance of each set of hyperparameters by giving more weightage to the mean cross-validation accuracy"
   ]
  },
  {
   "cell_type": "code",
   "execution_count": 92,
   "metadata": {},
   "outputs": [
    {
     "name": "stdout",
     "output_type": "stream",
     "text": [
      "[(0.01, 4), (0.01, 8), (0.05, 4), (0.05, 8), (0.1, 4), (0.1, 8), (0.4, 4), (0.4, 8), (0.8, 4), (0.8, 8)]\n",
      "[563.8218301  607.34724066 553.72990328 589.28264682 555.93112679\n",
      " 600.34491315 550.57604375 571.01267213 561.69799321 534.90881415]\n"
     ]
    }
   ],
   "source": [
    "scores = reciproc_iqr + 1000*cross_validation_accuracies_mean #100 for converting to percentage and 10 as a weight\n",
    "print(hyperparameters)\n",
    "print(scores)"
   ]
  },
  {
   "cell_type": "code",
   "execution_count": 93,
   "metadata": {},
   "outputs": [
    {
     "data": {
      "text/plain": [
       "607.3472406563178"
      ]
     },
     "execution_count": 93,
     "metadata": {},
     "output_type": "execute_result"
    }
   ],
   "source": [
    "max(scores)"
   ]
  },
  {
   "cell_type": "markdown",
   "metadata": {},
   "source": [
    "### From the maximum score value, we choose (0.01,8) as the best set of hyperparameters"
   ]
  },
  {
   "cell_type": "code",
   "execution_count": 126,
   "metadata": {},
   "outputs": [],
   "source": [
    "chosen_hyper = (0.01,8)"
   ]
  },
  {
   "cell_type": "markdown",
   "metadata": {},
   "source": [
    "# Running the Neural Network 20 times with random initialisations to compute mean Test Accuracy"
   ]
  },
  {
   "cell_type": "code",
   "execution_count": 122,
   "metadata": {},
   "outputs": [],
   "source": [
    "accuracies_dash = []\n",
    "for j in range(20):\n",
    "    test_found_parameters = nn_model(training_set_features,training_set_outputs,chosen_hyper)\n",
    "    predicted_values = predict(test_found_parameters,test_set_features)\n",
    "    counter = 0\n",
    "    for i in range(test_set_outputs.shape[1]):\n",
    "        if test_set_outputs[0][i]==predicted_values[0][i]:\n",
    "            counter+=1\n",
    "    accuracy = (counter*100/test_set_outputs.shape[1])\n",
    "    accuracies_dash.append(accuracy)\n",
    "mean_test_accuracy_dash = sum(accuracies_dash)/len(accuracies_dash)"
   ]
  },
  {
   "cell_type": "code",
   "execution_count": 124,
   "metadata": {},
   "outputs": [
    {
     "name": "stdout",
     "output_type": "stream",
     "text": [
      "Mean Accuracy on Test Data = 65.71 %\n",
      "Maximum Accuracy on Test Data = 75.65 %\n",
      "Minimum Accuracy on Test Data = 50.14 %\n"
     ]
    }
   ],
   "source": [
    "print(\"Mean Accuracy on Test Data = {a:2.2f} %\".format(a=mean_test_accuracy_dash))\n",
    "print(\"Maximum Accuracy on Test Data = {b:2.2f} %\".format(b=max(accuracies_dash)))\n",
    "print(\"Minimum Accuracy on Test Data = {c:2.2f} %\".format(c=min(accuracies_dash)))"
   ]
  },
  {
   "cell_type": "markdown",
   "metadata": {},
   "source": [
    "# Cumulative Match Characteristic Curve"
   ]
  },
  {
   "cell_type": "code",
   "execution_count": 125,
   "metadata": {},
   "outputs": [
    {
     "data": {
      "text/plain": [
       "Text(0, 0.5, 'Accuracy')"
      ]
     },
     "execution_count": 125,
     "metadata": {},
     "output_type": "execute_result"
    },
    {
     "data": {
      "image/png": "[encoded data removed]",
      "text/plain": [
       "<Figure size 432x288 with 1 Axes>"
      ]
     },
     "metadata": {
      "needs_background": "light"
     },
     "output_type": "display_data"
    }
   ],
   "source": [
    "accuracies_values = [mean_test_accuracy_dash,100]\n",
    "ranks = ['1','2']\n",
    "plt.plot(ranks,accuracies_values,'r-')\n",
    "plt.ylim(0,100)\n",
    "plt.xlim(0,2)\n",
    "plt.xlabel('Rank')\n",
    "plt.ylabel('Accuracy')"
   ]
  }
 ],
 "metadata": {
  "kernelspec": {
   "display_name": "Python 3",
   "language": "python",
   "name": "python3"
  },
  "language_info": {
   "codemirror_mode": {
    "name": "ipython",
    "version": 3
   },
   "file_extension": ".py",
   "mimetype": "text/x-python",
   "name": "python",
   "nbconvert_exporter": "python",
   "pygments_lexer": "ipython3",
   "version": "3.7.6"
  }
 },
 "nbformat": 4,
 "nbformat_minor": 4
}
